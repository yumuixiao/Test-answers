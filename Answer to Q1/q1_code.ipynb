{
 "cells": [
  {
   "cell_type": "markdown",
   "id": "73ffd481",
   "metadata": {},
   "source": [
    "all packages "
   ]
  },
  {
   "cell_type": "code",
   "execution_count": 16,
   "id": "61e3a261",
   "metadata": {},
   "outputs": [],
   "source": [
    "import torch\n",
    "from torch import nn\n",
    "from torch.utils import data\n",
    "from torchvision import datasets, transforms\n",
    "\n",
    "import numpy as np\n",
    "import random\n",
    "import matplotlib.pyplot as plt\n",
    "\n",
    "from sklearn.metrics import roc_curve"
   ]
  },
  {
   "cell_type": "markdown",
   "id": "4e32791c",
   "metadata": {},
   "source": [
    "load the data and select the image of 0 and 7"
   ]
  },
  {
   "cell_type": "code",
   "execution_count": 2,
   "id": "bc26e81c",
   "metadata": {},
   "outputs": [],
   "source": [
    "train_data = datasets.MNIST(root=\"./data\", train=True, download=True, transform=transforms.ToTensor())\n",
    "test_data = datasets.MNIST(root=\"./data\", train=False, download=True, transform=transforms.ToTensor())\n",
    "\n",
    "tr_zero_img = train_data.data[train_data.targets == 0].to(torch.float32)\n",
    "tr_zero_l = train_data.targets[train_data.targets == 0]\n",
    "tr_seven_img  = train_data.data[train_data.targets == 7].to(torch.float32)\n",
    "tr_seven_l = torch.ones(len(tr_seven_img), dtype = torch.long)\n",
    "\n",
    "\n",
    "te_zero_img = test_data.data[test_data.targets == 0].to(torch.float32)\n",
    "te_zero_l = test_data.targets[test_data.targets == 0]\n",
    "te_seven_img = test_data.data[test_data.targets == 7].to(torch.float32)\n",
    "te_seven_l = torch.ones(len(te_seven_img), dtype = torch.long)\n",
    "\n",
    "train = torch.cat([tr_zero_img, tr_seven_img], dim = 0)\n",
    "train_l = torch.cat([tr_zero_l, tr_seven_l], dim = 0)\n",
    "test = torch.cat([te_zero_img, te_seven_img], dim = 0)\n",
    "test_l = torch.cat([te_zero_l, te_seven_l], dim = 0)\n",
    "\n",
    "train_set = data.TensorDataset(*(train, train_l))\n",
    "test_set = data.TensorDataset(*(test, test_l))\n",
    "\n",
    "train_data = data.DataLoader(train_set, 32, shuffle = True) # batch size is 32\n",
    "test_data = data.DataLoader(test_set, shuffle = True) "
   ]
  },
  {
   "cell_type": "markdown",
   "id": "7c116184",
   "metadata": {},
   "source": [
    "construct the bag"
   ]
  },
  {
   "cell_type": "code",
   "execution_count": 3,
   "id": "bfd4ed89",
   "metadata": {},
   "outputs": [],
   "source": [
    "def sample_select(sample_size, zero_part, seven_part):\n",
    "    num_zero = len(zero_part)\n",
    "    num_seven = len(seven_part)\n",
    "    feature = torch.empty(sample_size,100, 28, 28)\n",
    "    label = torch.empty(sample_size,1) \n",
    "    \n",
    "    for i in range(sample_size):\n",
    "        x = random.randint(0,100)  # purity in [0, 100]\n",
    "        \n",
    "        z_index = np.random.randint(num_zero, size = x)\n",
    "        s_index = np.random.randint(num_seven, size = 100-x)\n",
    "        \n",
    "        z_set = zero_part[z_index]\n",
    "        s_set = seven_part[s_index]\n",
    "        \n",
    "        mix = torch.cat([z_set, s_set], dim = 0)\n",
    "\n",
    "        u = torch.flatten(mix, 0, 1)\n",
    "        \n",
    "        \n",
    "        feature[i] = mix\n",
    "        label[i] = x\n",
    "        \n",
    "    return feature, label\n",
    "\n",
    "f, l = sample_select(2000, te_zero_img, te_seven_img)  # select 2000 bags which contian 0 and 7\n",
    "\n",
    "part2_set = data.TensorDataset(*(f, l))\n",
    "part2_loader = data.DataLoader(part2_set, shuffle = True,num_workers = 2)"
   ]
  },
  {
   "cell_type": "markdown",
   "id": "46edbd63",
   "metadata": {},
   "source": [
    "CNN model to classify 0 and 7"
   ]
  },
  {
   "cell_type": "code",
   "execution_count": 4,
   "id": "e9bfda50",
   "metadata": {},
   "outputs": [],
   "source": [
    "class CNN(torch.nn.Module):\n",
    "    def __init__(self):\n",
    "        super(CNN, self).__init__()\n",
    "        self.conv1 = torch.nn.Conv2d(1, 16, kernel_size = 5)\n",
    "        self.pooling = torch.nn.MaxPool2d(2)\n",
    "        self.conv2 = torch.nn.Conv2d(16, 32, kernel_size = 3)\n",
    "        self.fc1 = torch.nn.Linear(800, 400)\n",
    "        self.fc2 = torch.nn.Linear(400, 50)\n",
    "        self.fc3 = torch.nn.Linear(50, 2)\n",
    "        self.relu = torch.nn.ReLU()\n",
    "        # self.dp = nn.Dropout(p = 0.5)\n",
    "\n",
    "    def forward(self, x):\n",
    "        batch_size = x.size(0)\n",
    "\n",
    "        # two convolution \n",
    "        x = self.pooling(self.relu(self.conv1(x)))\n",
    "        x = self.pooling(self.relu(self.conv2(x)))\n",
    "        \n",
    "        # flatten\n",
    "        x = x.view(batch_size, -1)\n",
    "        \n",
    "        # three full connection\n",
    "        x = self.fc1(x)\n",
    "        x = self.fc2(x)\n",
    "        x = self.fc3(x)\n",
    "\n",
    "        return x\n",
    "\n",
    "# call the model\n",
    "net = CNN()\n",
    "\n",
    "# loss function and back propagation setting\n",
    "criterion = nn.CrossEntropyLoss()\n",
    "optimizer = torch.optim.SGD(net.parameters(), lr = 0.001, momentum = 0.9)\n",
    "\n",
    "\n",
    "device = torch.device(\"cuda\" if torch.cuda.is_available() else \"cpu\")"
   ]
  },
  {
   "cell_type": "code",
   "execution_count": 5,
   "id": "f88374c3",
   "metadata": {
    "scrolled": false
   },
   "outputs": [
    {
     "name": "stdout",
     "output_type": "stream",
     "text": [
      "[1,   100] loss :0.90698\n",
      "[1,   200] loss :0.00790\n",
      "[1,   300] loss :0.01840\n",
      "[2,   100] loss :0.00404\n",
      "[2,   200] loss :0.00498\n",
      "[2,   300] loss :0.00201\n",
      "[3,   100] loss :0.00102\n",
      "[3,   200] loss :0.00051\n",
      "[3,   300] loss :0.00141\n",
      "[4,   100] loss :0.00017\n",
      "[4,   200] loss :0.00005\n",
      "[4,   300] loss :0.00038\n",
      "[5,   100] loss :0.00008\n",
      "[5,   200] loss :0.00006\n",
      "[5,   300] loss :0.00015\n",
      "[6,   100] loss :0.00006\n",
      "[6,   200] loss :0.00011\n",
      "[6,   300] loss :0.00005\n",
      "[7,   100] loss :0.00002\n",
      "[7,   200] loss :0.00004\n",
      "[7,   300] loss :0.00005\n",
      "[8,   100] loss :0.00002\n",
      "[8,   200] loss :0.00005\n",
      "[8,   300] loss :0.00002\n",
      "[9,   100] loss :0.00004\n",
      "[9,   200] loss :0.00002\n",
      "[9,   300] loss :0.00003\n",
      "[10,   100] loss :0.00002\n",
      "[10,   200] loss :0.00002\n",
      "[10,   300] loss :0.00003\n",
      "Well done!\n"
     ]
    }
   ],
   "source": [
    "train_accs = []\n",
    "train_loss = []\n",
    "\n",
    "\n",
    "\n",
    "for epoch in range(10):\n",
    "    running_loss = 0.0\n",
    "    for i, sets in enumerate(train_data,0):\n",
    "              \n",
    "        features, labels = sets\n",
    "        features = torch.unsqueeze(features, dim=1)\n",
    "        features = features.to(device)\n",
    "        labels = labels.to(device)\n",
    "        \n",
    "        optimizer.zero_grad()         \n",
    "\n",
    "        net = net.cuda()\n",
    "        outputs = net(features)\n",
    "        loss = criterion(outputs, labels)\n",
    "        loss.backward()\n",
    "        optimizer.step()\n",
    "\n",
    "        # out put the loss every 100 batchs\n",
    "        running_loss += loss.item()\n",
    "        if i%100 == 99:\n",
    "            print('[%d, %5d] loss :%.5f' %(epoch + 1, i + 1, running_loss/100))\n",
    "            running_loss = 0.0  # reset the loss in running\n",
    "        train_loss.append(loss.item())\n",
    "\n",
    "        # record the accuracy in each batchs\n",
    "        correct = 0\n",
    "        total = 0\n",
    "        predicted = torch.argmax(outputs.data, 1)\n",
    "        total = labels.size(0) \n",
    "        correct = (predicted == labels).sum().item() \n",
    "        train_accs.append(100*correct/total)\n",
    "\n",
    "print('Well done!')"
   ]
  },
  {
   "cell_type": "code",
   "execution_count": 6,
   "id": "f51476cb",
   "metadata": {
    "scrolled": false
   },
   "outputs": [
    {
     "data": {
      "image/png": "[encoded data removed]",
      "text/plain": [
       "<Figure size 432x288 with 1 Axes>"
      ]
     },
     "metadata": {
      "needs_background": "light"
     },
     "output_type": "display_data"
    }
   ],
   "source": [
    "def plot_save(iters, loss, accs):\n",
    "    plt.xlabel(\"No. of iterations\", fontsize = 16)\n",
    "    plt.ylabel(\"Accuracy(\\%)\", fontsize = 16)\n",
    "    plt.plot(iters, accs, color = 'blue', label = 'training acc', linewidth = 1) \n",
    "    plt.plot(iters, loss, color = 'red', label = 'training loss', linewidth = 1) \n",
    "    plt.legend()\n",
    "    plt.grid()\n",
    "    plt.savefig('./ac_lo.svg', format='svg') \n",
    "    plt.show()\n",
    "    \n",
    "train_iters = range(len(train_accs))\n",
    "plot_save(train_iters, train_loss, train_accs)\n"
   ]
  },
  {
   "cell_type": "code",
   "execution_count": 42,
   "id": "7c067ea0",
   "metadata": {
    "collapsed": true
   },
   "outputs": [
    {
     "data": {
      "text/plain": [
       "'\\n# model statements and parameters\\nprint(\"Model\\'s state_dict:\")\\nfor param_tensor in net.state_dict():\\n    print(param_tensor,  \"\\t\", net.state_dict()[param_tensor].size())\\n\\nprint(\"Optimizer\\'s state_dict:\")\\nfor var_name in optimizer.state_dict():\\n    print(var_name, \"\\t\", optimizer.state_dict()[var_name])\\n    \\n# save the model \\nPATH = \\'C:/Users/11617/Desktop/NTU/q1/data/net.pt\\'\\ntorch.save(net.state_dict(), PATH)\\n\\n#  load the model\\nmodel = net(*args, **kwargs)\\nmodel.load_state_dict(torch.load(PATH))\\nmodel.eval()\\n'"
      ]
     },
     "execution_count": 42,
     "metadata": {},
     "output_type": "execute_result"
    }
   ],
   "source": [
    "'''\n",
    "# model statements and parameters\n",
    "print(\"Model's state_dict:\")\n",
    "for param_tensor in net.state_dict():\n",
    "    print(param_tensor,  \"\\t\", net.state_dict()[param_tensor].size())\n",
    "\n",
    "print(\"Optimizer's state_dict:\")\n",
    "for var_name in optimizer.state_dict():\n",
    "    print(var_name, \"\\t\", optimizer.state_dict()[var_name])\n",
    "    \n",
    "# save the model \n",
    "PATH = 'C:/Users/11617/Desktop/NTU/q1/data/net.pt'\n",
    "torch.save(net.state_dict(), PATH)\n",
    "\n",
    "# load the model\n",
    "model = net(*args, **kwargs)\n",
    "model.load_state_dict(torch.load(PATH))\n",
    "model.eval()\n",
    "'''"
   ]
  },
  {
   "cell_type": "code",
   "execution_count": 26,
   "id": "dd0a808a",
   "metadata": {},
   "outputs": [
    {
     "name": "stdout",
     "output_type": "stream",
     "text": [
      "Accuracy on the test data: 99.851 %\n"
     ]
    }
   ],
   "source": [
    "# use test data to testing model performance\n",
    "correct = 0\n",
    "total = 0\n",
    "pre = []\n",
    "la = []\n",
    "with torch.no_grad():\n",
    "    for data in test_data:\n",
    "        \n",
    "        features, labels = data\n",
    "        \n",
    "        features = torch.unsqueeze(features, dim = 1)\n",
    "        features = features.to(device)\n",
    "        labels = labels.to(device)\n",
    "        \n",
    "        outputs = net(features)\n",
    "        predicted = torch.argmax(outputs.data, 1)\n",
    "        \n",
    "        pre.append(predicted.cpu().detach().numpy())\n",
    "        la.append(labels.cpu().detach().numpy())\n",
    "        \n",
    "        total += labels.size(0)\n",
    "        correct += (predicted == labels).sum().item() \n",
    "\n",
    "print('Accuracy on the test data: %.3f %%' % (100 * correct / total))\n",
    "# Accuracy on the test data: 99.851 %"
   ]
  },
  {
   "cell_type": "code",
   "execution_count": 29,
   "id": "85c7a245",
   "metadata": {},
   "outputs": [
    {
     "data": {
      "image/png": "[encoded data removed]",
      "text/plain": [
       "<Figure size 432x288 with 1 Axes>"
      ]
     },
     "metadata": {
      "needs_background": "light"
     },
     "output_type": "display_data"
    }
   ],
   "source": [
    "def p_roc(FP, TP):\n",
    "    plt.plot(FP, TP, color = 'blue', label = 'ROC')\n",
    "    plt.plot([0, 1], [0, 1], color = 'green', linestyle = '--')\n",
    "    plt.xlabel('False Positive Rate')\n",
    "    plt.ylabel('True Positive Rate')\n",
    "    plt.title('Receiver Operating Characteristic Curve')\n",
    "    plt.legend()\n",
    "    plt.savefig('./roc.svg', format='svg')\n",
    "    plt.show()\n",
    "\n",
    "\n",
    "FP, TP, thresholds = roc_curve(la, pre)\n",
    "p_roc(FP, TP)"
   ]
  },
  {
   "cell_type": "code",
   "execution_count": 13,
   "id": "12477f67",
   "metadata": {},
   "outputs": [
    {
     "name": "stdout",
     "output_type": "stream",
     "text": [
      "Accuracy: 85.400%, Loss: 0.1620\n"
     ]
    }
   ],
   "source": [
    "# predict the purity\n",
    "\n",
    "correct = []\n",
    "ac = []\n",
    "puris = []\n",
    "loss = []\n",
    "iters = 0\n",
    "with torch.no_grad():\n",
    "    \n",
    "    for data in part2_loader:\n",
    "        features, labels = data\n",
    "        one = 0\n",
    "        for f in features:\n",
    "            f = torch.unsqueeze(f, dim=1)\n",
    "            f = f.to(device)\n",
    "            \n",
    "            output = net(f)\n",
    "            predict = torch.argmax(output.data, 1)\n",
    "            one += predict\n",
    "            iters += 1\n",
    "        \n",
    "        one = one.cpu().detach().numpy()\n",
    "        puris = (100 - sum(one))\n",
    "        total = len(f)\n",
    "        correct += (puris == labels)\n",
    "        loss.append(abs(puris - labels))\n",
    "        \n",
    "    print('Accuracy: %.3f%%, Loss: %.4f' %(sum(correct)/iters*100, sum(loss)/iters))\n",
    "    \n",
    "# Accuracy: 85.400%, Loss: 0.1620"
   ]
  },
  {
   "cell_type": "code",
   "execution_count": 14,
   "id": "bd9e8fd3",
   "metadata": {
    "scrolled": true
   },
   "outputs": [
    {
     "name": "stdout",
     "output_type": "stream",
     "text": [
      "Accuracy: 98.500%\n"
     ]
    }
   ],
   "source": [
    "# adjusted model \n",
    "\n",
    "correct = 0\n",
    "ac = []\n",
    "puris = []\n",
    "loss = []\n",
    "iters = 0\n",
    "with torch.no_grad():\n",
    "    \n",
    "    for data in part2_loader:\n",
    "        features, labels = data\n",
    "        one = 0\n",
    "        for f in features:\n",
    "            f = torch.unsqueeze(f, dim=1)\n",
    "            f = f.to(device)\n",
    "            \n",
    "            output = net(f)\n",
    "            predict = torch.argmax(output.data, 1)\n",
    "            one += predict\n",
    "            iters += 1\n",
    "        \n",
    "        one = one.cpu().detach().numpy()\n",
    "        puris = (100 - sum(one))\n",
    "        if abs(puris - labels)<=1:\n",
    "            correct += 1\n",
    "        loss.append(abs(puris - labels))\n",
    "        #ac.append(correct/100)\n",
    "    \n",
    "    print('Accuracy: %.3f%%' %(correct/iters*100))\n",
    "    \n",
    "# Accuracy: 98.500%"
   ]
  }
 ],
 "metadata": {
  "kernelspec": {
   "display_name": "Python 3",
   "language": "python",
   "name": "python3"
  },
  "language_info": {
   "codemirror_mode": {
    "name": "ipython",
    "version": 3
   },
   "file_extension": ".py",
   "mimetype": "text/x-python",
   "name": "python",
   "nbconvert_exporter": "python",
   "pygments_lexer": "ipython3",
   "version": "3.8.8"
  }
 },
 "nbformat": 4,
 "nbformat_minor": 5
}
